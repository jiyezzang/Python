{
 "cells": [
  {
   "cell_type": "code",
   "execution_count": 5,
   "metadata": {},
   "outputs": [
    {
     "name": "stdout",
     "output_type": "stream",
     "text": [
      "helloworld\n"
     ]
    }
   ],
   "source": [
    "a,b = input().split()\n",
    "s = a+b\n",
    "print(s)"
   ]
  },
  {
   "cell_type": "code",
   "execution_count": null,
   "metadata": {},
   "outputs": [
    {
     "name": "stdout",
     "output_type": "stream",
     "text": [
      "0\n"
     ]
    }
   ],
   "source": [
    "a, b = input().split()\n",
    "c = int(a) + int(b)\n",
    "print(c)"
   ]
  },
  {
   "cell_type": "code",
   "execution_count": 10,
   "metadata": {},
   "outputs": [
    {
     "name": "stdout",
     "output_type": "stream",
     "text": [
      "1.0\n"
     ]
    }
   ],
   "source": [
    "a = float(input()) \n",
    "b = float(input())\n",
    "\n",
    "print(a+b)"
   ]
  },
  {
   "cell_type": "code",
   "execution_count": 11,
   "metadata": {},
   "outputs": [
    {
     "name": "stdout",
     "output_type": "stream",
     "text": [
      "ff\n"
     ]
    }
   ],
   "source": [
    "# 6027 : [기초-출력변환] 10진 정수 입력받아 16진수로 출력하기2(설명)(py)\n",
    "\n",
    "a = input()\n",
    "n = int(a)            #입력된 cvg a를 10진수 값으로 변환해 변수 n에 저장\n",
    "print('%x'% n) "
   ]
  },
  {
   "cell_type": "code",
   "execution_count": 12,
   "metadata": {},
   "outputs": [
    {
     "name": "stdout",
     "output_type": "stream",
     "text": [
      "FF\n"
     ]
    }
   ],
   "source": [
    "# 6028 : [기초-출력변환] 10진 정수 입력받아 16진수로 출력하기2(설명)(py)\n",
    "\n",
    "a = input()\n",
    "n = int(a)            #입력된 cvg a를 10진수 값으로 변환해 변수 n에 저장\n",
    "print('%X'% n) "
   ]
  },
  {
   "cell_type": "code",
   "execution_count": 14,
   "metadata": {},
   "outputs": [
    {
     "name": "stdout",
     "output_type": "stream",
     "text": [
      "17\n"
     ]
    }
   ],
   "source": [
    "# 6029 : [기초-값변환] 16진 정수 입력받아 8진수로 출력하기(설명)(py)\n",
    "\n",
    "a = input()\n",
    "n = int(a, 16)      #입력된 a를 16진수로 인식해 변수 n에 저장\n",
    "print('%o' % n)"
   ]
  },
  {
   "cell_type": "code",
   "execution_count": 17,
   "metadata": {},
   "outputs": [
    {
     "name": "stdout",
     "output_type": "stream",
     "text": [
      "65\n"
     ]
    }
   ],
   "source": [
    "# 6030 : [기초-값변환] 영문자 1개 입력받아 10진수로 변환하기(설명)(py)\n",
    "\n",
    "n = ord(input())  #입력받은 문자를 10진수 유니코드 값으로 변환한 후, n에 저장한다.\n",
    "print(n)"
   ]
  },
  {
   "cell_type": "code",
   "execution_count": 18,
   "metadata": {},
   "outputs": [
    {
     "name": "stdout",
     "output_type": "stream",
     "text": [
      "A\n"
     ]
    }
   ],
   "source": [
    "# 6031 : [기초-값변환] 정수 입력받아 유니코드 문자로 변환하기(설명)(py)\n",
    "\n",
    "c = int(input())\n",
    "print(chr(c))  #c에 저장되어 있는 정수 값을 유니코드 문자(chracter)로 바꿔 출력한다. "
   ]
  },
  {
   "cell_type": "code",
   "execution_count": 23,
   "metadata": {},
   "outputs": [
    {
     "name": "stdout",
     "output_type": "stream",
     "text": [
      "1\n"
     ]
    }
   ],
   "source": [
    "# 6032 : [기초-산술연산] 정수 1개 입력받아 부호 바꾸기(설명)(py)\n",
    "\n",
    "a = int(input())\n",
    "\n",
    "print(-a)"
   ]
  },
  {
   "cell_type": "code",
   "execution_count": 29,
   "metadata": {},
   "outputs": [
    {
     "name": "stdout",
     "output_type": "stream",
     "text": [
      "B\n"
     ]
    }
   ],
   "source": [
    "# 6033 : [기초-산술연산] 문자 1개 입력받아 다음 문자 출력하기(설명)(py)\n",
    "\n",
    "a = str(input())\n",
    "\n",
    "print(chr(n+1))  #왜 소문자를 입력하는데 대문자로 나오지???? "
   ]
  },
  {
   "cell_type": "code",
   "execution_count": 30,
   "metadata": {},
   "outputs": [
    {
     "name": "stdout",
     "output_type": "stream",
     "text": [
      "246\n"
     ]
    }
   ],
   "source": [
    "a = int(input())\n",
    "b = int(input())\n",
    "\n",
    "print(a+(-b))"
   ]
  },
  {
   "cell_type": "code",
   "execution_count": 31,
   "metadata": {},
   "outputs": [
    {
     "name": "stdout",
     "output_type": "stream",
     "text": [
      "1.0\n"
     ]
    }
   ],
   "source": [
    "a = float(input())\n",
    "b = float(input())\n",
    "\n",
    "print(a*b)"
   ]
  },
  {
   "cell_type": "code",
   "execution_count": 33,
   "metadata": {},
   "outputs": [
    {
     "name": "stdout",
     "output_type": "stream",
     "text": [
      "lovelovelove\n"
     ]
    }
   ],
   "source": [
    "# 6036 : [기초-산술연산] 단어 여러 번 출력하기(설명)(py)\n",
    "\n",
    "w, n = input().split()\n",
    "print(w*int(n))"
   ]
  },
  {
   "cell_type": "code",
   "execution_count": 34,
   "metadata": {},
   "outputs": [
    {
     "name": "stdout",
     "output_type": "stream",
     "text": [
      "l love csl love csl love cs\n"
     ]
    }
   ],
   "source": [
    "# 6037 : [기초-산술연산] 문장 여러 번 출력하기(설명)(py)\n",
    "\n",
    "n = input()\n",
    "s = input()\n",
    "print(int(n)*s)"
   ]
  },
  {
   "cell_type": "code",
   "execution_count": 35,
   "metadata": {},
   "outputs": [
    {
     "name": "stdout",
     "output_type": "stream",
     "text": [
      "1024\n"
     ]
    }
   ],
   "source": [
    "a = int(input()) \n",
    "b = int(input())\n",
    "\n",
    "print(a**b)"
   ]
  },
  {
   "cell_type": "code",
   "execution_count": 36,
   "metadata": {},
   "outputs": [
    {
     "name": "stdout",
     "output_type": "stream",
     "text": [
      "16.0\n"
     ]
    }
   ],
   "source": [
    "a = float(input()) \n",
    "b = float(input())\n",
    "\n",
    "print(a**b)"
   ]
  },
  {
   "cell_type": "code",
   "execution_count": 37,
   "metadata": {},
   "outputs": [
    {
     "name": "stdout",
     "output_type": "stream",
     "text": [
      "3\n"
     ]
    }
   ],
   "source": [
    "a = int(input()) \n",
    "b = int(input())\n",
    "\n",
    "print(a//b)"
   ]
  },
  {
   "cell_type": "code",
   "execution_count": 38,
   "metadata": {},
   "outputs": [
    {
     "name": "stdout",
     "output_type": "stream",
     "text": [
      "1\n"
     ]
    }
   ],
   "source": [
    "a = int(input()) \n",
    "b = int(input())\n",
    "\n",
    "print(a%b)"
   ]
  }
 ],
 "metadata": {
  "kernelspec": {
   "display_name": "base",
   "language": "python",
   "name": "python3"
  },
  "language_info": {
   "codemirror_mode": {
    "name": "ipython",
    "version": 3
   },
   "file_extension": ".py",
   "mimetype": "text/x-python",
   "name": "python",
   "nbconvert_exporter": "python",
   "pygments_lexer": "ipython3",
   "version": "3.9.13"
  },
  "orig_nbformat": 4
 },
 "nbformat": 4,
 "nbformat_minor": 2
}
